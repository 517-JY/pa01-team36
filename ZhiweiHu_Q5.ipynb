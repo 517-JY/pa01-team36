{
 "cells": [
  {
   "cell_type": "markdown",
   "metadata": {},
   "source": [
    "# Zhiwei Hu Q5\n",
    "My own question for Q5 is to find out the top 10 popular classes (have more enrolled students) among all COSI 100-level classes (except 131A since it is mandatory), only print out the course name (for example: \"Fundamental of Software Engineering\"), the corresponding subject (for example: \"COSI\") and the number of enrolled students. "
   ]
  },
  {
   "cell_type": "code",
   "execution_count": 4,
   "metadata": {},
   "outputs": [],
   "source": [
    "import json\n",
    "with open(\"courses20-21.json\",\"r\",encoding='utf-8') as jsonfile:\n",
    "    courses = json.load(jsonfile)\n"
   ]
  },
  {
   "cell_type": "code",
   "execution_count": 6,
   "metadata": {},
   "outputs": [
    {
     "name": "stdout",
     "output_type": "stream",
     "text": [
      "notice that the instructor and code are tuples now\n"
     ]
    },
    {
     "data": {
      "text/plain": [
       "{'limit': 28,\n",
       " 'times': [{'start': 1080, 'end': 1170, 'days': ['w', 'm']}],\n",
       " 'enrolled': 4,\n",
       " 'details': 'Instruction for this course will be offered remotely. Meeting times for this course are listed in the schedule of classes (in ET).',\n",
       " 'type': 'section',\n",
       " 'status_text': 'Open',\n",
       " 'section': '1',\n",
       " 'waiting': 0,\n",
       " 'instructor': ('An', 'Huang', 'anhuang@brandeis.edu'),\n",
       " 'coinstructors': (),\n",
       " 'code': ('MATH', '223A'),\n",
       " 'subject': 'MATH',\n",
       " 'coursenum': '223A',\n",
       " 'name': 'Lie Algebras: Representation Theory',\n",
       " 'independent_study': False,\n",
       " 'term': '1203',\n",
       " 'description': \"Theorems of Engel and Lie. Semisimple Lie algebras, Cartan's criterion. Universal enveloping algebras, PBW theorem, Serre's construction. Representation theory. Other topics as time permits. Usually offered every second year.\\nAn Huang\"}"
      ]
     },
     "execution_count": 6,
     "metadata": {},
     "output_type": "execute_result"
    }
   ],
   "source": [
    "for course in courses:\n",
    "        course['instructor'] = tuple(course['instructor'])\n",
    "        course['coinstructors'] = tuple([tuple(f) for f in course['coinstructors']])\n",
    "        course['code']= tuple(course['code'])\n",
    "print('notice that the instructor and code are tuples now')\n",
    "courses[1246]"
   ]
  },
  {
   "cell_type": "code",
   "execution_count": 11,
   "metadata": {},
   "outputs": [
    {
     "data": {
      "text/plain": [
       "[('Introduction to 3-D Animation', 'COSI', 166),\n",
       " ('Introduction to the Theory of Computation', 'COSI', 87),\n",
       " ('Fundamentals of Natural Language Processing I', 'COSI', 84),\n",
       " ('Structure and Interpretation of Computer Programs', 'COSI', 61),\n",
       " ('Statistical Machine Learning', 'COSI', 56),\n",
       " ('Practical Machine Learning with Big Data', 'COSI', 48),\n",
       " ('Software Entrepreneurship', 'COSI', 47),\n",
       " ('Computer-Supported Cooperation', 'COSI', 44),\n",
       " ('Capstone Project for Software Engineering', 'COSI', 39),\n",
       " ('Web Application Development', 'COSI', 37)]"
      ]
     },
     "execution_count": 11,
     "metadata": {},
     "output_type": "execute_result"
    }
   ],
   "source": [
    "COSI_class_list = []\n",
    "for course in courses:\n",
    "    if (course['subject'] == \"COSI\" or course['subject'] == 'cosi') and len(course['coursenum']) >= 4 and course['enrolled'] > 0 and course['coursenum'] != \"131A\":\n",
    "        COSI_class_list.append((course['name'], course['subject'], course['enrolled']))\n",
    "COSI_class_list.sort(key=lambda x: x[2], reverse=True)\n",
    "COSI_class_list[:10]"
   ]
  },
  {
   "cell_type": "code",
   "execution_count": null,
   "metadata": {},
   "outputs": [],
   "source": []
  }
 ],
 "metadata": {
  "interpreter": {
   "hash": "1a6fad73033f352189b877b5608b86a0118350473b2217d9b8c0ebb3f6e697e0"
  },
  "kernelspec": {
   "display_name": "Python 3.9.5 ('base')",
   "language": "python",
   "name": "python3"
  },
  "language_info": {
   "codemirror_mode": {
    "name": "ipython",
    "version": 3
   },
   "file_extension": ".py",
   "mimetype": "text/x-python",
   "name": "python",
   "nbconvert_exporter": "python",
   "pygments_lexer": "ipython3",
   "version": "3.9.5"
  },
  "orig_nbformat": 4
 },
 "nbformat": 4,
 "nbformat_minor": 2
}
