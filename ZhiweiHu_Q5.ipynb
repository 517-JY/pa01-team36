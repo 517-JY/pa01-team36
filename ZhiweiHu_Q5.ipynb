{
 "cells": [
  {
   "cell_type": "markdown",
   "metadata": {},
   "source": [
    "# Zhiwei Hu Q5.i\n",
    "My own question for Q5.i is to find out the top 10 popular classes (have more enrolled students) among all COSI 100-level classes (except 131A since it is mandatory), only print out the course name (for example: \"Fundamental of Software Engineering\"), the corresponding subject (for example: \"COSI\") and the number of enrolled students. "
   ]
  },
  {
   "cell_type": "code",
   "execution_count": null,
   "metadata": {},
   "outputs": [],
   "source": [
    "import json\n",
    "with open(\"courses20-21.json\",\"r\",encoding='utf-8') as jsonfile:\n",
    "    courses = json.load(jsonfile)\n"
   ]
  },
  {
   "cell_type": "code",
   "execution_count": null,
   "metadata": {},
   "outputs": [],
   "source": [
    "for course in courses:\n",
    "        course['instructor'] = tuple(course['instructor'])\n",
    "        course['coinstructors'] = tuple([tuple(f) for f in course['coinstructors']])\n",
    "        course['code']= tuple(course['code'])"
   ]
  },
  {
   "cell_type": "code",
   "execution_count": null,
   "metadata": {},
   "outputs": [],
   "source": [
    "COSI_class_list = []\n",
    "for course in courses:\n",
    "    if (course['subject'] == \"COSI\" or course['subject'] == 'cosi') and len(course['coursenum']) >= 4 and course['enrolled'] > 0 and course['coursenum'] != \"131A\":\n",
    "        COSI_class_list.append((course['name'], course['subject'], course['enrolled']))\n",
    "COSI_class_list.sort(key=lambda x: x[2], reverse=True)\n",
    "COSI_class_list[:10]"
   ]
  }
 ],
 "metadata": {
  "interpreter": {
   "hash": "1a6fad73033f352189b877b5608b86a0118350473b2217d9b8c0ebb3f6e697e0"
  },
  "kernelspec": {
   "display_name": "Python 3 (ipykernel)",
   "language": "python",
   "name": "python3"
  },
  "language_info": {
   "codemirror_mode": {
    "name": "ipython",
    "version": 3
   },
   "file_extension": ".py",
   "mimetype": "text/x-python",
   "name": "python",
   "nbconvert_exporter": "python",
   "pygments_lexer": "ipython3",
   "version": "3.9.5"
  }
 },
 "nbformat": 4,
 "nbformat_minor": 4
}
